{
  "nbformat": 4,
  "nbformat_minor": 0,
  "metadata": {
    "colab": {
      "name": "0601.ipynb",
      "provenance": [],
      "authorship_tag": "ABX9TyPHtnSknn9M/ZzLn2+nlP7X",
      "include_colab_link": true
    },
    "kernelspec": {
      "name": "python3",
      "display_name": "Python 3"
    },
    "language_info": {
      "name": "python"
    }
  },
  "cells": [
    {
      "cell_type": "markdown",
      "metadata": {
        "id": "view-in-github",
        "colab_type": "text"
      },
      "source": [
        "<a href=\"https://colab.research.google.com/github/jrnss/Introdution-to-Computers/blob/main/0601.ipynb\" target=\"_parent\"><img src=\"https://colab.research.google.com/assets/colab-badge.svg\" alt=\"Open In Colab\"/></a>"
      ]
    },
    {
      "cell_type": "code",
      "execution_count": null,
      "metadata": {
        "colab": {
          "base_uri": "https://localhost:8080/"
        },
        "id": "zC_09ew8nhP8",
        "outputId": "2f73506a-6f85-4e85-9b9b-9a4a13bd131c"
      },
      "outputs": [
        {
          "output_type": "stream",
          "name": "stdout",
          "text": [
            "2*1= 22*2= 42*3= 62*4= 82*5=102*6=122*7=142*8=162*9=18\n",
            "3*1= 33*2= 63*3= 93*4=123*5=153*6=183*7=213*8=243*9=27\n",
            "4*1= 44*2= 84*3=124*4=164*5=204*6=244*7=284*8=324*9=36\n",
            "5*1= 55*2=105*3=155*4=205*5=255*6=305*7=355*8=405*9=45\n",
            "6*1= 66*2=126*3=186*4=246*5=306*6=366*7=426*8=486*9=54\n",
            "7*1= 77*2=147*3=217*4=287*5=357*6=427*7=497*8=567*9=63\n",
            "8*1= 88*2=168*3=248*4=328*5=408*6=488*7=568*8=648*9=72\n",
            "9*1= 99*2=189*3=279*4=369*5=459*6=549*7=639*8=729*9=81\n"
          ]
        }
      ],
      "source": [
        "for i in range(2,10):\n",
        "  for j in range(1,10):\n",
        "    product=i*j\n",
        "    print(\"%d*%d=%2d\" % (i,j,product),end=\"\")\n",
        "  print()"
      ]
    },
    {
      "cell_type": "code",
      "source": [
        "a=int(input(\"請輸入a的值\"))\n",
        "b=int(input(\"請輸入b的值\"))\n",
        "\n",
        "maxno=a*b\n",
        "for i in range(1,maxno+1):\n",
        "  if(i%a==0 and i%b==0):\n",
        "    break\n",
        "print(\"%d和%d的最小公倍數=%d\",(a,b,i))"
      ],
      "metadata": {
        "colab": {
          "base_uri": "https://localhost:8080/"
        },
        "id": "ytrjX9tFo2Ip",
        "outputId": "051b984d-1e06-4e37-a69d-e5eb8f6dd325"
      },
      "execution_count": null,
      "outputs": [
        {
          "output_type": "stream",
          "name": "stdout",
          "text": [
            "請輸入a的值12\n",
            "請輸入b的值18\n",
            "%d和%d的最小公倍數=%d (12, 18, 36)\n"
          ]
        }
      ]
    },
    {
      "cell_type": "code",
      "source": [
        "n=int(input(\"請輸入一個正整數\"))\n",
        "for i in range(1,n+1):\n",
        "  if i%5==0:\n",
        "    continue\n",
        "  print(i,end=\" \")"
      ],
      "metadata": {
        "colab": {
          "base_uri": "https://localhost:8080/"
        },
        "id": "4lYj30i_quUS",
        "outputId": "7b88844c-6e1d-4e74-a3ce-e9682f1e552b"
      },
      "execution_count": null,
      "outputs": [
        {
          "output_type": "stream",
          "name": "stdout",
          "text": [
            "請輸入一個正整數14\n",
            "1 2 3 4 6 7 8 9 11 12 13 14 "
          ]
        }
      ]
    },
    {
      "cell_type": "code",
      "source": [
        "total=n=0\n",
        "while(n<10):\n",
        "  n+=1\n",
        "  total+=n\n",
        "print(total)"
      ],
      "metadata": {
        "colab": {
          "base_uri": "https://localhost:8080/"
        },
        "id": "yroMEoIhr6lv",
        "outputId": "ccebf642-48a0-4820-df39-9169e3b574c7"
      },
      "execution_count": null,
      "outputs": [
        {
          "output_type": "stream",
          "name": "stdout",
          "text": [
            "55\n"
          ]
        }
      ]
    },
    {
      "cell_type": "code",
      "source": [
        "total=n=0\n",
        "while n<=10:\n",
        "  total+=n\n",
        "  n+=1\n",
        "print(total)"
      ],
      "metadata": {
        "colab": {
          "base_uri": "https://localhost:8080/"
        },
        "id": "2vrrWN2cu3YU",
        "outputId": "3bbaa4ce-8597-452e-f40c-a7b79858603b"
      },
      "execution_count": null,
      "outputs": [
        {
          "output_type": "stream",
          "name": "stdout",
          "text": [
            "55\n"
          ]
        }
      ]
    },
    {
      "cell_type": "code",
      "source": [
        "total=n=0\n",
        "while(n<10):\n",
        "  total+=n\n",
        "print(total)"
      ],
      "metadata": {
        "colab": {
          "base_uri": "https://localhost:8080/",
          "height": 226
        },
        "id": "C3F6SUvJvDbT",
        "outputId": "de3a2db1-de4f-457d-979a-08948c99cebb"
      },
      "execution_count": null,
      "outputs": [
        {
          "output_type": "error",
          "ename": "KeyboardInterrupt",
          "evalue": "ignored",
          "traceback": [
            "\u001b[0;31m---------------------------------------------------------------------------\u001b[0m",
            "\u001b[0;31mKeyboardInterrupt\u001b[0m                         Traceback (most recent call last)",
            "\u001b[0;32m<ipython-input-11-7cf9f1b09ef5>\u001b[0m in \u001b[0;36m<module>\u001b[0;34m()\u001b[0m\n\u001b[1;32m      1\u001b[0m \u001b[0mtotal\u001b[0m\u001b[0;34m=\u001b[0m\u001b[0mn\u001b[0m\u001b[0;34m=\u001b[0m\u001b[0;36m0\u001b[0m\u001b[0;34m\u001b[0m\u001b[0;34m\u001b[0m\u001b[0m\n\u001b[1;32m      2\u001b[0m \u001b[0;32mwhile\u001b[0m\u001b[0;34m(\u001b[0m\u001b[0mn\u001b[0m\u001b[0;34m<\u001b[0m\u001b[0;36m10\u001b[0m\u001b[0;34m)\u001b[0m\u001b[0;34m:\u001b[0m\u001b[0;34m\u001b[0m\u001b[0;34m\u001b[0m\u001b[0m\n\u001b[0;32m----> 3\u001b[0;31m   \u001b[0mtotal\u001b[0m\u001b[0;34m+=\u001b[0m\u001b[0mn\u001b[0m\u001b[0;34m\u001b[0m\u001b[0;34m\u001b[0m\u001b[0m\n\u001b[0m\u001b[1;32m      4\u001b[0m \u001b[0mprint\u001b[0m\u001b[0;34m(\u001b[0m\u001b[0mtotal\u001b[0m\u001b[0;34m)\u001b[0m\u001b[0;34m\u001b[0m\u001b[0;34m\u001b[0m\u001b[0m\n",
            "\u001b[0;31mKeyboardInterrupt\u001b[0m: "
          ]
        }
      ]
    },
    {
      "cell_type": "code",
      "source": [
        "total=i=1\n",
        "n=int(input(\"請輸入正整數n的值\"))\n",
        "while i<=n:\n",
        "  total*=i\n",
        "  i+=1\n",
        "print(\"%d!=%d\"%(n,total))"
      ],
      "metadata": {
        "colab": {
          "base_uri": "https://localhost:8080/"
        },
        "id": "hazpeFWBvfdz",
        "outputId": "f56e15d6-8708-4d0f-a429-a65eb0944543"
      },
      "execution_count": null,
      "outputs": [
        {
          "output_type": "stream",
          "name": "stdout",
          "text": [
            "請輸入正整數n的值100\n",
            "100!=93326215443944152681699238856266700490715968264381621468592963895217599993229915608941463976156518286253697920827223758251185210916864000000000000000000000000\n"
          ]
        }
      ]
    },
    {
      "cell_type": "code",
      "source": [
        "sum=0\n",
        "for i in range(0,50):\n",
        "  if i%2==1:\n",
        "    sum+=i\n",
        "print(\"0~50的奇數和結果是\",sum,sep=\"\")"
      ],
      "metadata": {
        "id": "IwXu7K_Vv4-P",
        "colab": {
          "base_uri": "https://localhost:8080/"
        },
        "outputId": "356ff1fa-7da9-4dc4-d261-ec232149b4fa"
      },
      "execution_count": 5,
      "outputs": [
        {
          "output_type": "stream",
          "name": "stdout",
          "text": [
            "0~50的奇數和結果是625\n"
          ]
        }
      ]
    },
    {
      "cell_type": "code",
      "source": [
        "sum=0\n",
        "for i in range(0,51):\n",
        "  if i%2==0:\n",
        "    sum+=i\n",
        "print(\"0~50的偶數和結果是\",sum,sep=\"\")"
      ],
      "metadata": {
        "colab": {
          "base_uri": "https://localhost:8080/"
        },
        "id": "UAGULKlQuOwk",
        "outputId": "ecb335e0-e975-4604-e6be-ebd8ce6d87f9"
      },
      "execution_count": 7,
      "outputs": [
        {
          "output_type": "stream",
          "name": "stdout",
          "text": [
            "0~50的偶數和結果是650\n"
          ]
        }
      ]
    },
    {
      "cell_type": "code",
      "source": [
        "n=int(input(\"請輸入正整數:\"))\n",
        "for i in range(n,0,-1):\n",
        "  print(i*'*')\n"
      ],
      "metadata": {
        "colab": {
          "base_uri": "https://localhost:8080/"
        },
        "id": "-Qvj5jmWdJ7Q",
        "outputId": "f1c41ad8-a74c-4053-8cfe-3ebbedae0d22"
      },
      "execution_count": 34,
      "outputs": [
        {
          "output_type": "stream",
          "name": "stdout",
          "text": [
            "請輸入正整數:6\n",
            "******\n",
            "****\n",
            "**\n"
          ]
        }
      ]
    },
    {
      "cell_type": "code",
      "source": [
        "sum=0\n",
        "for i in range(0,101):\n",
        "  if(i%3==0)or(i%7==0):\n",
        "    sum+=i\n",
        "print(\"數值1~100中，所有是3或7倍數的數之總和=\",sum)"
      ],
      "metadata": {
        "colab": {
          "base_uri": "https://localhost:8080/"
        },
        "id": "lvcmK-tCu6ws",
        "outputId": "03ef5183-603d-49be-8d1d-de1e49b8888d"
      },
      "execution_count": 10,
      "outputs": [
        {
          "output_type": "stream",
          "name": "stdout",
          "text": [
            "數值1~100中，所有是3或7倍數的數之總和= 2208\n"
          ]
        }
      ]
    },
    {
      "cell_type": "code",
      "source": [
        "n=int(input(\"請輸入一個正整數\"))\n",
        "print(n,\"的因數有\")\n",
        "for i in range(1,n+1):\n",
        "  if n%i==0:\n",
        "    print(i,sep=\"\")"
      ],
      "metadata": {
        "colab": {
          "base_uri": "https://localhost:8080/"
        },
        "id": "pbfk0HxPX4Nw",
        "outputId": "a5917f84-e818-4093-f364-31f52fb5ae57"
      },
      "execution_count": 28,
      "outputs": [
        {
          "output_type": "stream",
          "name": "stdout",
          "text": [
            "請輸入一個正整數12\n",
            "12 的因數有\n",
            "1\n",
            "2\n",
            "3\n",
            "4\n",
            "6\n",
            "12\n"
          ]
        }
      ]
    },
    {
      "cell_type": "code",
      "source": [
        ""
      ],
      "metadata": {
        "id": "BEFdqNo9cBbF"
      },
      "execution_count": null,
      "outputs": []
    }
  ]
}
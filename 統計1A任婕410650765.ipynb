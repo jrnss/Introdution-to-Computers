{
  "nbformat": 4,
  "nbformat_minor": 0,
  "metadata": {
    "colab": {
      "name": "統計1A任婕410650765.ipynb",
      "provenance": [],
      "authorship_tag": "ABX9TyNi8rztnG3/BOsVmT9fMxaJ",
      "include_colab_link": true
    },
    "kernelspec": {
      "name": "python3",
      "display_name": "Python 3"
    },
    "language_info": {
      "name": "python"
    }
  },
  "cells": [
    {
      "cell_type": "markdown",
      "metadata": {
        "id": "view-in-github",
        "colab_type": "text"
      },
      "source": [
        "<a href=\"https://colab.research.google.com/github/jrnss/Introdution-to-Computers/blob/main/%E7%B5%B1%E8%A8%881A%E4%BB%BB%E5%A9%95410650765.ipynb\" target=\"_parent\"><img src=\"https://colab.research.google.com/assets/colab-badge.svg\" alt=\"Open In Colab\"/></a>"
      ]
    },
    {
      "cell_type": "markdown",
      "source": [
        "加法+="
      ],
      "metadata": {
        "id": "h8BcG6pkv_LU"
      }
    },
    {
      "cell_type": "code",
      "execution_count": 10,
      "metadata": {
        "colab": {
          "base_uri": "https://localhost:8080/"
        },
        "id": "HyDakCB0uTk6",
        "outputId": "a8cd30ca-dd95-419b-d664-785745e1474c"
      },
      "outputs": [
        {
          "output_type": "stream",
          "name": "stdout",
          "text": [
            "5\n"
          ]
        }
      ],
      "source": [
        "a=2\n",
        "a+=3\n",
        "print(a)"
      ]
    },
    {
      "cell_type": "markdown",
      "source": [
        "減法-="
      ],
      "metadata": {
        "id": "N_bM4nQUwEKk"
      }
    },
    {
      "cell_type": "code",
      "source": [
        "b=6\n",
        "b-=5\n",
        "print(b)"
      ],
      "metadata": {
        "colab": {
          "base_uri": "https://localhost:8080/"
        },
        "id": "OxpVp4aBu057",
        "outputId": "73cb860f-fe26-4a26-b574-1a3e000ee6e4"
      },
      "execution_count": 2,
      "outputs": [
        {
          "output_type": "stream",
          "name": "stdout",
          "text": [
            "1\n"
          ]
        }
      ]
    },
    {
      "cell_type": "markdown",
      "source": [
        "乘法*="
      ],
      "metadata": {
        "id": "mdj4tJXRwG00"
      }
    },
    {
      "cell_type": "code",
      "source": [
        "c=2\n",
        "c*=4\n",
        "print(c)"
      ],
      "metadata": {
        "colab": {
          "base_uri": "https://localhost:8080/"
        },
        "id": "TOIRWk0VvBrx",
        "outputId": "fb90f185-078d-4a73-86dd-2aa129d9ea74"
      },
      "execution_count": 3,
      "outputs": [
        {
          "output_type": "stream",
          "name": "stdout",
          "text": [
            "8\n"
          ]
        }
      ]
    },
    {
      "cell_type": "markdown",
      "source": [
        "除法/="
      ],
      "metadata": {
        "id": "G9XdfpdVwJ00"
      }
    },
    {
      "cell_type": "code",
      "source": [
        "d=10\n",
        "d/=2\n",
        "print(d)"
      ],
      "metadata": {
        "colab": {
          "base_uri": "https://localhost:8080/"
        },
        "id": "RlbNQ6r0vHmQ",
        "outputId": "3ce54570-1dec-4c93-f950-f84518c5866c"
      },
      "execution_count": 5,
      "outputs": [
        {
          "output_type": "stream",
          "name": "stdout",
          "text": [
            "5.0\n"
          ]
        }
      ]
    },
    {
      "cell_type": "markdown",
      "source": [
        "取餘數%="
      ],
      "metadata": {
        "id": "MC7tLj1pwccL"
      }
    },
    {
      "cell_type": "code",
      "source": [
        "e=20\n",
        "e%=3\n",
        "print(e)"
      ],
      "metadata": {
        "colab": {
          "base_uri": "https://localhost:8080/"
        },
        "id": "4QnSO51TvMvt",
        "outputId": "e03c1b54-2f71-431c-927a-f53ad261122f"
      },
      "execution_count": 6,
      "outputs": [
        {
          "output_type": "stream",
          "name": "stdout",
          "text": [
            "2\n"
          ]
        }
      ]
    },
    {
      "cell_type": "markdown",
      "source": [
        "取整數//="
      ],
      "metadata": {
        "id": "ogxt3waMwWqd"
      }
    },
    {
      "cell_type": "code",
      "source": [
        "f=16\n",
        "f//=2\n",
        "print(f)"
      ],
      "metadata": {
        "colab": {
          "base_uri": "https://localhost:8080/"
        },
        "id": "daZaNgCtvWep",
        "outputId": "935b0a41-74be-4483-9897-6c79259217cb"
      },
      "execution_count": 7,
      "outputs": [
        {
          "output_type": "stream",
          "name": "stdout",
          "text": [
            "8\n"
          ]
        }
      ]
    },
    {
      "cell_type": "markdown",
      "source": [
        "次方**="
      ],
      "metadata": {
        "id": "lgZcI4KEwgJT"
      }
    },
    {
      "cell_type": "code",
      "source": [
        "g=3\n",
        "g**=4\n",
        "print(g)"
      ],
      "metadata": {
        "colab": {
          "base_uri": "https://localhost:8080/"
        },
        "id": "J55OqYWvvdT9",
        "outputId": "a44aa3b9-b81f-44fe-8ae0-6bbbab228826"
      },
      "execution_count": 8,
      "outputs": [
        {
          "output_type": "stream",
          "name": "stdout",
          "text": [
            "81\n"
          ]
        }
      ]
    },
    {
      "cell_type": "markdown",
      "source": [
        "大於>"
      ],
      "metadata": {
        "id": "r1snuPYbwwV8"
      }
    },
    {
      "cell_type": "code",
      "source": [
        "5>3"
      ],
      "metadata": {
        "colab": {
          "base_uri": "https://localhost:8080/"
        },
        "id": "5QKJMm8WvvNl",
        "outputId": "a4de5bcf-2809-48ae-93a5-e6c53de8260f"
      },
      "execution_count": 11,
      "outputs": [
        {
          "output_type": "execute_result",
          "data": {
            "text/plain": [
              "True"
            ]
          },
          "metadata": {},
          "execution_count": 11
        }
      ]
    },
    {
      "cell_type": "markdown",
      "source": [
        "小於<"
      ],
      "metadata": {
        "id": "ebm02X3hw06E"
      }
    },
    {
      "cell_type": "code",
      "source": [
        "8<6"
      ],
      "metadata": {
        "colab": {
          "base_uri": "https://localhost:8080/"
        },
        "id": "7Zm715K_wu6k",
        "outputId": "0bb1b924-a35f-43ed-ccf8-2e2192bb2548"
      },
      "execution_count": 13,
      "outputs": [
        {
          "output_type": "execute_result",
          "data": {
            "text/plain": [
              "False"
            ]
          },
          "metadata": {},
          "execution_count": 13
        }
      ]
    },
    {
      "cell_type": "markdown",
      "source": [
        "等於=="
      ],
      "metadata": {
        "id": "wZvep5TBw-sC"
      }
    },
    {
      "cell_type": "code",
      "source": [
        "5==5"
      ],
      "metadata": {
        "colab": {
          "base_uri": "https://localhost:8080/"
        },
        "id": "l6_0l6R4w5KY",
        "outputId": "9e125328-38be-42c6-c30b-686cc269bc8d"
      },
      "execution_count": 14,
      "outputs": [
        {
          "output_type": "execute_result",
          "data": {
            "text/plain": [
              "True"
            ]
          },
          "metadata": {},
          "execution_count": 14
        }
      ]
    },
    {
      "cell_type": "markdown",
      "source": [
        "and"
      ],
      "metadata": {
        "id": "EejGIuGexfI6"
      }
    },
    {
      "cell_type": "code",
      "source": [
        "(12>10)and(6>8)"
      ],
      "metadata": {
        "colab": {
          "base_uri": "https://localhost:8080/"
        },
        "id": "ailUXgTpw96E",
        "outputId": "65300334-6822-470a-c097-2cb09fd449da"
      },
      "execution_count": 15,
      "outputs": [
        {
          "output_type": "execute_result",
          "data": {
            "text/plain": [
              "False"
            ]
          },
          "metadata": {},
          "execution_count": 15
        }
      ]
    },
    {
      "cell_type": "markdown",
      "source": [
        "or"
      ],
      "metadata": {
        "id": "unLk79r2xjxD"
      }
    },
    {
      "cell_type": "code",
      "source": [
        "(4>2)or(3>4)"
      ],
      "metadata": {
        "colab": {
          "base_uri": "https://localhost:8080/"
        },
        "id": "ToCsU4xnxdyG",
        "outputId": "544125ad-d846-420d-eb2e-0b95520f2abb"
      },
      "execution_count": 16,
      "outputs": [
        {
          "output_type": "execute_result",
          "data": {
            "text/plain": [
              "True"
            ]
          },
          "metadata": {},
          "execution_count": 16
        }
      ]
    },
    {
      "cell_type": "markdown",
      "source": [
        "not"
      ],
      "metadata": {
        "id": "Vuw74KKaxqky"
      }
    },
    {
      "cell_type": "code",
      "source": [
        "not(3<2)"
      ],
      "metadata": {
        "colab": {
          "base_uri": "https://localhost:8080/"
        },
        "id": "wJYpQRvnxpsV",
        "outputId": "a5178b9b-eb12-40f8-caa2-a250023f4b9b"
      },
      "execution_count": 17,
      "outputs": [
        {
          "output_type": "execute_result",
          "data": {
            "text/plain": [
              "True"
            ]
          },
          "metadata": {},
          "execution_count": 17
        }
      ]
    },
    {
      "cell_type": "code",
      "source": [
        ""
      ],
      "metadata": {
        "id": "A6I2fRk0xxqp"
      },
      "execution_count": null,
      "outputs": []
    }
  ]
}
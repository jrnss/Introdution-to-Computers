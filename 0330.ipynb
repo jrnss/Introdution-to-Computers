{
  "nbformat": 4,
  "nbformat_minor": 0,
  "metadata": {
    "colab": {
      "name": "0330.ipynb",
      "provenance": [],
      "authorship_tag": "ABX9TyOGVrkkS0qMSi2fEEZrMxSL",
      "include_colab_link": true
    },
    "kernelspec": {
      "name": "python3",
      "display_name": "Python 3"
    },
    "language_info": {
      "name": "python"
    }
  },
  "cells": [
    {
      "cell_type": "markdown",
      "metadata": {
        "id": "view-in-github",
        "colab_type": "text"
      },
      "source": [
        "<a href=\"https://colab.research.google.com/github/jrnss/Introdution-to-Computers/blob/main/0330.ipynb\" target=\"_parent\"><img src=\"https://colab.research.google.com/assets/colab-badge.svg\" alt=\"Open In Colab\"/></a>"
      ]
    },
    {
      "cell_type": "code",
      "source": [
        "not(3>5)"
      ],
      "metadata": {
        "colab": {
          "base_uri": "https://localhost:8080/"
        },
        "id": "v2R6jZhJaEXV",
        "outputId": "a53890e2-360f-4b76-e2c8-57497d4dbb14"
      },
      "execution_count": 3,
      "outputs": [
        {
          "output_type": "execute_result",
          "data": {
            "text/plain": [
              "True"
            ]
          },
          "metadata": {},
          "execution_count": 3
        }
      ]
    },
    {
      "cell_type": "code",
      "source": [
        "not(3<5)"
      ],
      "metadata": {
        "colab": {
          "base_uri": "https://localhost:8080/"
        },
        "id": "RNIHC7JAaEUh",
        "outputId": "998dd402-5ebb-41ab-8111-b502cf233cb7"
      },
      "execution_count": 4,
      "outputs": [
        {
          "output_type": "execute_result",
          "data": {
            "text/plain": [
              "False"
            ]
          },
          "metadata": {},
          "execution_count": 4
        }
      ]
    },
    {
      "cell_type": "code",
      "source": [
        "(5>3)and(9>6)"
      ],
      "metadata": {
        "colab": {
          "base_uri": "https://localhost:8080/"
        },
        "id": "1VeG-6ScaERm",
        "outputId": "5ec724ec-633f-4f26-8d39-4d4e8f63e930"
      },
      "execution_count": 5,
      "outputs": [
        {
          "output_type": "execute_result",
          "data": {
            "text/plain": [
              "True"
            ]
          },
          "metadata": {},
          "execution_count": 5
        }
      ]
    },
    {
      "cell_type": "code",
      "source": [
        "(5>3)and(9<6)"
      ],
      "metadata": {
        "colab": {
          "base_uri": "https://localhost:8080/"
        },
        "id": "ahr6wcMxaEOt",
        "outputId": "e757d9ea-868e-4507-bd66-a10c527035d4"
      },
      "execution_count": 6,
      "outputs": [
        {
          "output_type": "execute_result",
          "data": {
            "text/plain": [
              "False"
            ]
          },
          "metadata": {},
          "execution_count": 6
        }
      ]
    },
    {
      "cell_type": "code",
      "source": [
        "(5<3)and(9>6)"
      ],
      "metadata": {
        "colab": {
          "base_uri": "https://localhost:8080/"
        },
        "id": "BYtCVHeWaELv",
        "outputId": "d1baf3eb-b41c-4f5f-f648-807e924f9cb0"
      },
      "execution_count": 7,
      "outputs": [
        {
          "output_type": "execute_result",
          "data": {
            "text/plain": [
              "False"
            ]
          },
          "metadata": {},
          "execution_count": 7
        }
      ]
    },
    {
      "cell_type": "code",
      "source": [
        "(5<3)and(9<6)"
      ],
      "metadata": {
        "colab": {
          "base_uri": "https://localhost:8080/"
        },
        "id": "fPxTM-voaEI9",
        "outputId": "f1cee507-d40f-4295-c63a-df9c3aff769c"
      },
      "execution_count": 8,
      "outputs": [
        {
          "output_type": "execute_result",
          "data": {
            "text/plain": [
              "False"
            ]
          },
          "metadata": {},
          "execution_count": 8
        }
      ]
    },
    {
      "cell_type": "code",
      "source": [
        "(5>3)or(9>6)"
      ],
      "metadata": {
        "colab": {
          "base_uri": "https://localhost:8080/"
        },
        "id": "PMb5aqf2aEFu",
        "outputId": "63126bd8-4ed6-46ad-f64c-ec646a40f24f"
      },
      "execution_count": 9,
      "outputs": [
        {
          "output_type": "execute_result",
          "data": {
            "text/plain": [
              "True"
            ]
          },
          "metadata": {},
          "execution_count": 9
        }
      ]
    },
    {
      "cell_type": "code",
      "source": [
        "(5>3)or(9<6)"
      ],
      "metadata": {
        "colab": {
          "base_uri": "https://localhost:8080/"
        },
        "id": "yw8eUuq-aD-e",
        "outputId": "2032153c-0727-4ce3-ca86-13c4fd64205c"
      },
      "execution_count": 10,
      "outputs": [
        {
          "output_type": "execute_result",
          "data": {
            "text/plain": [
              "True"
            ]
          },
          "metadata": {},
          "execution_count": 10
        }
      ]
    },
    {
      "cell_type": "code",
      "source": [
        "(5<3)or(9>6)"
      ],
      "metadata": {
        "colab": {
          "base_uri": "https://localhost:8080/"
        },
        "id": "MjUtwQheaD1T",
        "outputId": "c8c34ec7-01f0-4814-a5bb-66c2de0c005e"
      },
      "execution_count": 12,
      "outputs": [
        {
          "output_type": "execute_result",
          "data": {
            "text/plain": [
              "True"
            ]
          },
          "metadata": {},
          "execution_count": 12
        }
      ]
    },
    {
      "cell_type": "code",
      "source": [
        "(5<3)or(9<6)"
      ],
      "metadata": {
        "colab": {
          "base_uri": "https://localhost:8080/"
        },
        "id": "a0-nDtgzaDst",
        "outputId": "68d69cde-c434-43ad-c481-9eabecd5df9a"
      },
      "execution_count": 13,
      "outputs": [
        {
          "output_type": "execute_result",
          "data": {
            "text/plain": [
              "False"
            ]
          },
          "metadata": {},
          "execution_count": 13
        }
      ]
    },
    {
      "cell_type": "code",
      "source": [
        "i=10"
      ],
      "metadata": {
        "id": "ISDTMrtBa8YO"
      },
      "execution_count": 14,
      "outputs": []
    },
    {
      "cell_type": "code",
      "source": [
        "i+=5"
      ],
      "metadata": {
        "id": "W_2bLWh1a8Th"
      },
      "execution_count": 15,
      "outputs": []
    },
    {
      "cell_type": "code",
      "source": [
        "i"
      ],
      "metadata": {
        "colab": {
          "base_uri": "https://localhost:8080/"
        },
        "id": "IXlu0i4da8OQ",
        "outputId": "a28d4522-630f-4d23-a167-89399cf91677"
      },
      "execution_count": 16,
      "outputs": [
        {
          "output_type": "execute_result",
          "data": {
            "text/plain": [
              "15"
            ]
          },
          "metadata": {},
          "execution_count": 16
        }
      ]
    },
    {
      "cell_type": "code",
      "source": [
        "i-=5\n",
        "i"
      ],
      "metadata": {
        "colab": {
          "base_uri": "https://localhost:8080/"
        },
        "id": "MPwSm_GZa8I9",
        "outputId": "0e78d694-3d81-4ce7-b712-1c09ad5ae8d7"
      },
      "execution_count": 17,
      "outputs": [
        {
          "output_type": "execute_result",
          "data": {
            "text/plain": [
              "10"
            ]
          },
          "metadata": {},
          "execution_count": 17
        }
      ]
    },
    {
      "cell_type": "code",
      "source": [
        "i=10\n",
        "i*=5\n",
        "i"
      ],
      "metadata": {
        "colab": {
          "base_uri": "https://localhost:8080/"
        },
        "id": "z1CQG0Xsa8BK",
        "outputId": "3640bc91-6a29-4d09-a729-64f6d6781b8a"
      },
      "execution_count": 18,
      "outputs": [
        {
          "output_type": "execute_result",
          "data": {
            "text/plain": [
              "50"
            ]
          },
          "metadata": {},
          "execution_count": 18
        }
      ]
    },
    {
      "cell_type": "code",
      "source": [
        "i=10\n",
        "i/=5\n",
        "i"
      ],
      "metadata": {
        "colab": {
          "base_uri": "https://localhost:8080/"
        },
        "id": "upChqXftbEAn",
        "outputId": "765450f0-d0c9-4944-a10b-dc81f746a01e"
      },
      "execution_count": 19,
      "outputs": [
        {
          "output_type": "execute_result",
          "data": {
            "text/plain": [
              "2.0"
            ]
          },
          "metadata": {},
          "execution_count": 19
        }
      ]
    },
    {
      "cell_type": "code",
      "source": [
        "i=10\n",
        "i%=5\n",
        "i"
      ],
      "metadata": {
        "colab": {
          "base_uri": "https://localhost:8080/"
        },
        "id": "XRNBpW7NbD8s",
        "outputId": "7eb97d9d-16cb-4e53-9cca-13c5dd71fe66"
      },
      "execution_count": 20,
      "outputs": [
        {
          "output_type": "execute_result",
          "data": {
            "text/plain": [
              "0"
            ]
          },
          "metadata": {},
          "execution_count": 20
        }
      ]
    },
    {
      "cell_type": "code",
      "source": [
        "i=10\n",
        "i//=5\n",
        "i"
      ],
      "metadata": {
        "colab": {
          "base_uri": "https://localhost:8080/"
        },
        "id": "XNZfCGCqbD5W",
        "outputId": "72f59a6e-6853-4c9f-8ae1-9ec8b2c41443"
      },
      "execution_count": 21,
      "outputs": [
        {
          "output_type": "execute_result",
          "data": {
            "text/plain": [
              "2"
            ]
          },
          "metadata": {},
          "execution_count": 21
        }
      ]
    },
    {
      "cell_type": "code",
      "source": [
        "i=10\n",
        "i**=5\n",
        "i"
      ],
      "metadata": {
        "colab": {
          "base_uri": "https://localhost:8080/"
        },
        "id": "brjw93vsbD2D",
        "outputId": "ad0a7bf7-916d-40bb-f2ec-60126c9a5598"
      },
      "execution_count": 22,
      "outputs": [
        {
          "output_type": "execute_result",
          "data": {
            "text/plain": [
              "100000"
            ]
          },
          "metadata": {},
          "execution_count": 22
        }
      ]
    },
    {
      "cell_type": "code",
      "source": [
        "print(1+2)"
      ],
      "metadata": {
        "colab": {
          "base_uri": "https://localhost:8080/"
        },
        "id": "NWLlCsHEbWKi",
        "outputId": "b96530e9-ec07-4be3-ab92-0ec4352fd29c"
      },
      "execution_count": 23,
      "outputs": [
        {
          "output_type": "stream",
          "name": "stdout",
          "text": [
            "3\n"
          ]
        }
      ]
    },
    {
      "cell_type": "code",
      "source": [
        "print('1'+'2')"
      ],
      "metadata": {
        "colab": {
          "base_uri": "https://localhost:8080/"
        },
        "id": "AwXPJK7pbWHL",
        "outputId": "45ad5a1e-7139-4984-b4eb-e29e7f75beca"
      },
      "execution_count": 24,
      "outputs": [
        {
          "output_type": "stream",
          "name": "stdout",
          "text": [
            "12\n"
          ]
        }
      ]
    },
    {
      "cell_type": "code",
      "source": [
        "print('你','好','!')"
      ],
      "metadata": {
        "colab": {
          "base_uri": "https://localhost:8080/"
        },
        "id": "uyuZFnAbbWAi",
        "outputId": "b785b07d-44e6-4735-adfa-3a26e3c6d1dc"
      },
      "execution_count": 25,
      "outputs": [
        {
          "output_type": "stream",
          "name": "stdout",
          "text": [
            "你 好 !\n"
          ]
        }
      ]
    },
    {
      "cell_type": "code",
      "execution_count": 27,
      "metadata": {
        "colab": {
          "base_uri": "https://localhost:8080/"
        },
        "id": "6cQdypNiZxer",
        "outputId": "b02c26b5-8e7e-4e8f-825d-748c992a3947"
      },
      "outputs": [
        {
          "output_type": "stream",
          "name": "stdout",
          "text": [
            "請輸入本金存款金額:100000\n",
            "六年後存款為： 112616.2419264\n"
          ]
        }
      ],
      "source": [
        "deposit=int(input('請輸入本金存款金額:'))\n",
        "years=1.02**6\n",
        "deposit*=years\n",
        "print('六年後存款為：',deposit)"
      ]
    },
    {
      "cell_type": "code",
      "source": [
        "pw=input('請輸入密碼')\n",
        "if(pw=='1234'):\n",
        "  print('歡迎光臨！')"
      ],
      "metadata": {
        "colab": {
          "base_uri": "https://localhost:8080/"
        },
        "id": "m-FaUyUAZ0DL",
        "outputId": "87cae131-9191-41e5-938e-13fb553e7458"
      },
      "execution_count": 36,
      "outputs": [
        {
          "output_type": "stream",
          "name": "stdout",
          "text": [
            "請輸入密碼1234\n",
            "歡迎光臨！\n"
          ]
        }
      ]
    },
    {
      "cell_type": "code",
      "source": [
        "rain=input('今天會下雨嗎？')\n",
        "if(rain=='Y'or rain=='y'):\n",
        "  print('出門記得帶傘！')"
      ],
      "metadata": {
        "colab": {
          "base_uri": "https://localhost:8080/"
        },
        "id": "l1LSvAVbaxs1",
        "outputId": "9f663ef6-f704-4e14-80c7-9a06b5d48159"
      },
      "execution_count": 49,
      "outputs": [
        {
          "output_type": "stream",
          "name": "stdout",
          "text": [
            "今天會下雨嗎？Y\n",
            "出門記得帶傘！\n"
          ]
        }
      ]
    },
    {
      "cell_type": "code",
      "source": [
        "pw=input('請輸入密碼')\n",
        "if(pw=='1234'):\n",
        "  print('歡迎光臨！')\n",
        "else:\n",
        "  print('密碼錯誤')"
      ],
      "metadata": {
        "colab": {
          "base_uri": "https://localhost:8080/"
        },
        "id": "pa96j8MWcSvp",
        "outputId": "232331ed-58fe-4407-9f29-6e984be0024c"
      },
      "execution_count": 37,
      "outputs": [
        {
          "output_type": "stream",
          "name": "stdout",
          "text": [
            "請輸入密碼11111\n",
            "密碼錯誤\n"
          ]
        }
      ]
    },
    {
      "cell_type": "code",
      "source": [
        "rain=input('今天會下雨嗎？')\n",
        "if(rain=='Y'or rain=='y'):\n",
        "  print('出門記得帶傘！')\n",
        "else:\n",
        "  print('不用帶傘')"
      ],
      "metadata": {
        "colab": {
          "base_uri": "https://localhost:8080/"
        },
        "id": "uWzCynBheALF",
        "outputId": "69a67cff-d6e2-421c-856b-04d5635b5bbc"
      },
      "execution_count": 50,
      "outputs": [
        {
          "output_type": "stream",
          "name": "stdout",
          "text": [
            "今天會下雨嗎？no\n",
            "不用帶傘\n"
          ]
        }
      ]
    },
    {
      "cell_type": "code",
      "source": [
        "kk=int(input('請輸入一個數字'))\n",
        "pp=kk%2\n",
        "if(pp==0):\n",
        "  print(kk,'為偶數！')\n",
        "if(pp==1):\n",
        "  print(kk,'為奇數！')"
      ],
      "metadata": {
        "colab": {
          "base_uri": "https://localhost:8080/"
        },
        "id": "FcXrdcUyeGhM",
        "outputId": "80cd00da-695c-4aeb-9c0e-fd8e5181f1d3"
      },
      "execution_count": 62,
      "outputs": [
        {
          "output_type": "stream",
          "name": "stdout",
          "text": [
            "請輸入一個數字26\n",
            "26 為偶數！\n"
          ]
        }
      ]
    },
    {
      "cell_type": "code",
      "source": [
        "kk=int(input('請輸入一個數字'))\n",
        "pp=kk%2\n",
        "if(pp==0):\n",
        "  print(kk,'為偶數！')\n",
        "if(pp==1):\n",
        "  print(kk,'為奇數！')"
      ],
      "metadata": {
        "colab": {
          "base_uri": "https://localhost:8080/"
        },
        "id": "dE0DXzM3gWPm",
        "outputId": "e95c36ca-87e2-4890-82a2-459e917cc13f"
      },
      "execution_count": 63,
      "outputs": [
        {
          "output_type": "stream",
          "name": "stdout",
          "text": [
            "請輸入一個數字19\n",
            "19 為奇數！\n"
          ]
        }
      ]
    }
  ]
}
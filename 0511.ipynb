{
  "nbformat": 4,
  "nbformat_minor": 0,
  "metadata": {
    "colab": {
      "name": "0511.ipynb",
      "provenance": [],
      "authorship_tag": "ABX9TyNqbBnfwQQAMD1DtrCSVRYJ",
      "include_colab_link": true
    },
    "kernelspec": {
      "name": "python3",
      "display_name": "Python 3"
    },
    "language_info": {
      "name": "python"
    }
  },
  "cells": [
    {
      "cell_type": "markdown",
      "metadata": {
        "id": "view-in-github",
        "colab_type": "text"
      },
      "source": [
        "<a href=\"https://colab.research.google.com/github/jrnss/Introdution-to-Computers/blob/main/0511.ipynb\" target=\"_parent\"><img src=\"https://colab.research.google.com/assets/colab-badge.svg\" alt=\"Open In Colab\"/></a>"
      ]
    },
    {
      "cell_type": "code",
      "execution_count": 4,
      "metadata": {
        "colab": {
          "base_uri": "https://localhost:8080/"
        },
        "id": "BlC5wbB7g41H",
        "outputId": "3adb1ef8-4db4-4f28-97be-63ba1b656cef"
      },
      "outputs": [
        {
          "output_type": "stream",
          "name": "stdout",
          "text": [
            "請輸入你的體溫36\n",
            "體溫正常！\n"
          ]
        }
      ],
      "source": [
        "temp=float(input(\"請輸入你的體溫\"))\n",
        "if temp>=37.5:\n",
        "  print('體溫過高！')\n",
        "elif temp>=37 and temp<=37.4:\n",
        "  print('體溫略高！')\n",
        "elif temp<=34:\n",
        "  print('體溫異常，請重新量測！')\n",
        "else:\n",
        "  print('體溫正常！')"
      ]
    },
    {
      "cell_type": "code",
      "source": [
        "money=int(input(\"請輸入購物金額：\"))\n",
        "if(money>=10000):\n",
        "  if(money>=100000):\n",
        "    print(\"八折\",money*0.8,end=\"元\\n\")\n",
        "  elif(money>=50000):\n",
        "    print(\"八五折\",money*0.85,end=\"元\\n\")\n",
        "  elif(money>=30000):\n",
        "    print(\"九折\",money*0.9,end=\"元\\n\")\n",
        "  elif(money>=10000):\n",
        "    print(\"九五折\",money*0.95,end=\"元\\n\")\n",
        "else:\n",
        "  print(\"沒打折\",money,end=\"元\\n\")"
      ],
      "metadata": {
        "colab": {
          "base_uri": "https://localhost:8080/"
        },
        "id": "HVqvcxNxjH1C",
        "outputId": "43aaa61b-1833-4158-d43c-16a110f6ccbc"
      },
      "execution_count": 15,
      "outputs": [
        {
          "output_type": "stream",
          "name": "stdout",
          "text": [
            "請輸入購物金額：12000\n",
            "九五折 11400.0元\n"
          ]
        }
      ]
    },
    {
      "cell_type": "code",
      "source": [
        "score=int(input(\"請輸入成績\"))\n",
        "if(score>=90):\n",
        "  print('A')\n",
        "elif(score<=89)and(score>=80):\n",
        "  print('B')\n",
        "elif(score<=79)and(score>=70):\n",
        "  print('C')\n",
        "elif(score<=69)and(score>=60):\n",
        "  print('D')\n",
        "else:\n",
        "  print('E')"
      ],
      "metadata": {
        "colab": {
          "base_uri": "https://localhost:8080/"
        },
        "id": "__M-hy2DmzTC",
        "outputId": "eace2d11-e29a-447a-e877-45acdb1f59ed"
      },
      "execution_count": 21,
      "outputs": [
        {
          "output_type": "stream",
          "name": "stdout",
          "text": [
            "請輸入成績34\n",
            "E\n"
          ]
        }
      ]
    },
    {
      "cell_type": "code",
      "source": [
        "ss=int(input(\"請輸入月份\"))\n",
        "if(ss==3)or(ss==4)or(ss==5):\n",
        "  print(ss,\"月是春天！\",sep='')\n",
        "elif(ss==6)or(ss==7)or(ss==8):\n",
        "  print(ss,\"月是夏天！\",sep='')\n",
        "elif(ss==9)or(ss==10)or(ss==11):\n",
        "  print(ss,\"月是秋天！\",sep='')\n",
        "elif(ss==12)or(ss==1)or(ss==2):\n",
        "  print(ss,\"月是冬天！\",sep='')\n",
        "else:\n",
        "  print(\"月份不在範圍內！\")"
      ],
      "metadata": {
        "colab": {
          "base_uri": "https://localhost:8080/"
        },
        "id": "FCnetz-islg-",
        "outputId": "c2af4ea1-7667-47c6-8f02-ebc35b6f9992"
      },
      "execution_count": 51,
      "outputs": [
        {
          "output_type": "stream",
          "name": "stdout",
          "text": [
            "請輸入月份7\n",
            "7月是夏天！\n"
          ]
        }
      ]
    },
    {
      "cell_type": "code",
      "source": [
        "W=int(input(\"請輸入今年收入淨額：\"))\n",
        "if(W>=2000000):\n",
        "  print('付稅金額：',W*0.3,end='元\\n')\n",
        "elif(W>=1000000):\n",
        "  print('付稅金額：',W*0.21,end='元\\n')\n",
        "elif(W>=600000):\n",
        "  print('付稅金額：',W*0.13,end='元\\n')\n",
        "elif(W>=300000):\n",
        "  print('付稅金額：',W*0.06,end='元\\n')\n",
        "else:\n",
        "  print('付稅金額：',W*0,end='元\\n')"
      ],
      "metadata": {
        "colab": {
          "base_uri": "https://localhost:8080/"
        },
        "id": "iKS-91Wcwnmp",
        "outputId": "61f24383-c90f-44a6-bdf8-dfa4d2ced73b"
      },
      "execution_count": 60,
      "outputs": [
        {
          "output_type": "stream",
          "name": "stdout",
          "text": [
            "請輸入今年收入淨額：1234567\n",
            "付稅金額： 259259.06999999998元\n"
          ]
        }
      ]
    },
    {
      "cell_type": "code",
      "source": [
        ""
      ],
      "metadata": {
        "id": "dm5qO69ox383"
      },
      "execution_count": null,
      "outputs": []
    }
  ]
}
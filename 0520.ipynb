{
  "nbformat": 4,
  "nbformat_minor": 0,
  "metadata": {
    "colab": {
      "name": "0520.ipynb",
      "provenance": [],
      "authorship_tag": "ABX9TyPxlAxFFtAf5UrxD1XymYrL",
      "include_colab_link": true
    },
    "kernelspec": {
      "name": "python3",
      "display_name": "Python 3"
    },
    "language_info": {
      "name": "python"
    }
  },
  "cells": [
    {
      "cell_type": "markdown",
      "metadata": {
        "id": "view-in-github",
        "colab_type": "text"
      },
      "source": [
        "<a href=\"https://colab.research.google.com/github/jrnss/Introdution-to-Computers/blob/main/0520.ipynb\" target=\"_parent\"><img src=\"https://colab.research.google.com/assets/colab-badge.svg\" alt=\"Open In Colab\"/></a>"
      ]
    },
    {
      "cell_type": "code",
      "execution_count": 33,
      "metadata": {
        "colab": {
          "base_uri": "https://localhost:8080/"
        },
        "id": "Na54obvZ96xL",
        "outputId": "5fc65ece-1240-4c97-db5f-e376b70521cd"
      },
      "outputs": [
        {
          "output_type": "stream",
          "name": "stdout",
          "text": [
            "金州勇士現在有的球員陣容＝ ['Curry', 'Green', 'Durant', 'Looney', 'Thompson']\n",
            "勇士今天最高的三個得分 [30, 22, 28] 球員分別為 ['Curry', 'Durant', 'Thompson']\n",
            "勇士今天最低的兩個得分 [5, 6] 球員分別為 ['Green', 'Looney']\n",
            "勇士今天最高得分為 Curry 分數為 30\n",
            "勇士今天最高得分為 Green 分數為 5\n"
          ]
        }
      ],
      "source": [
        "Player=['Curry','Green','Durant','Looney','Thompson']\n",
        "Fraction = [30,5,22,6,28]\n",
        "print(\"金州勇士現在有的球員陣容＝\",Player)\n",
        "print(\"勇士今天最高的三個得分\",Fraction[0:5:2],\"球員分別為\",Player[0:5:2])\n",
        "print(\"勇士今天最低的兩個得分\",Fraction[1:5:2],\"球員分別為\",Player[1:5:2])\n",
        "print(\"勇士今天最高得分為\",Player[0],\"分數為\",max(Fraction))\n",
        "print(\"勇士今天最高得分為\",Player[1],\"分數為\",min(Fraction))"
      ]
    },
    {
      "cell_type": "code",
      "source": [
        ""
      ],
      "metadata": {
        "id": "dihPO4jG_7fu"
      },
      "execution_count": null,
      "outputs": []
    }
  ]
}